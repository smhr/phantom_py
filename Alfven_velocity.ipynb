{
 "cells": [
  {
   "cell_type": "markdown",
   "id": "638a4f0e-965a-4afa-ac37-88970bdc5a8a",
   "metadata": {},
   "source": [
    "### Calculation of Alfven velocity"
   ]
  },
  {
   "cell_type": "code",
   "execution_count": 1,
   "id": "52a0184b-70f3-4252-8be6-31c8f28483b4",
   "metadata": {},
   "outputs": [],
   "source": [
    "import numpy as np\n",
    "from math import pi as pi\n",
    "from astropy import constants as const\n",
    "from astropy import units as u"
   ]
  },
  {
   "cell_type": "code",
   "execution_count": 2,
   "id": "8a970c8d-c4dc-41f7-9ab9-a787eff5bc83",
   "metadata": {},
   "outputs": [],
   "source": [
    "def filamentDens(filamentM):\n",
    "    filamentM = filamentM*u.solMass #filament mass\n",
    "    filamentL = 1.5*u.pc #filament length\n",
    "    filamentR = 0.1*u.pc #filament radius\n",
    "    filamentV = pi*filamentR**2.*filamentL\n",
    "    filamentDens = filamentM/filamentV\n",
    "    return filamentDens.decompose(u.cgs.bases)"
   ]
  },
  {
   "cell_type": "code",
   "execution_count": 3,
   "id": "c1eba2e2-0cc8-421b-ac1c-4d40c3d2ac10",
   "metadata": {},
   "outputs": [],
   "source": [
    "def soundSpeed(mu, T):\n",
    "    T = T*u.Kelvin\n",
    "    cs = (const.k_B*T/mu/const.m_p)**(0.5)\n",
    "    cs = cs.decompose(u.cgs.bases)\n",
    "    return cs"
   ]
  },
  {
   "cell_type": "code",
   "execution_count": 4,
   "id": "47a85263-76a3-4c0d-bc36-e730393224fa",
   "metadata": {},
   "outputs": [],
   "source": [
    "def alfven(B, rho):\n",
    "    va = B/np.sqrt(4*pi*rho)\n",
    "    return va.decompose(u.cgs.bases)"
   ]
  },
  {
   "cell_type": "markdown",
   "id": "dbce9ad1-d7d0-4a01-91f6-e1f02f17ba17",
   "metadata": {},
   "source": [
    "**Calculation of Alfven velocity:**"
   ]
  },
  {
   "cell_type": "code",
   "execution_count": 5,
   "id": "f74c1cd2-ba8f-4c11-9323-9124e5697821",
   "metadata": {},
   "outputs": [
    {
     "data": {
      "text/latex": [
       "$2.1657 \\times 10^{-5} \\; \\mathrm{G}$"
      ],
      "text/plain": [
       "<Quantity 2.1657e-05 G>"
      ]
     },
     "execution_count": 5,
     "metadata": {},
     "output_type": "execute_result"
    }
   ],
   "source": [
    "B = 21.657*1e-6*u.Gauss; B"
   ]
  },
  {
   "cell_type": "markdown",
   "id": "227e4d6e-9fe6-4a75-a81f-bd16982acc32",
   "metadata": {},
   "source": [
    "In cgs, the unit of magnetic field can be written as:\n",
    "\n",
    "$[B] = [\\rm{pressure}]^{1/2} = (\\dfrac{[F]}{[A]})^{1/2} = \\dfrac{g^{1/2}}{cm^{1/2}\\,s}$"
   ]
  },
  {
   "cell_type": "markdown",
   "id": "9134a1e1-e519-4489-8951-31543b05acb4",
   "metadata": {},
   "source": [
    "So, we can write:"
   ]
  },
  {
   "cell_type": "code",
   "execution_count": 6,
   "id": "9a14be7a-db5f-4404-87c4-ca0828d1c94c",
   "metadata": {},
   "outputs": [
    {
     "data": {
      "text/latex": [
       "$2.1657 \\times 10^{-5} \\; \\mathrm{\\frac{g^{1/2}}{cm^{1/2}\\,s}}$"
      ],
      "text/plain": [
       "<Quantity 2.1657e-05 g(1/2) / (cm(1/2) s)>"
      ]
     },
     "execution_count": 6,
     "metadata": {},
     "output_type": "execute_result"
    }
   ],
   "source": [
    "B = 21.657*1e-6* (u.g/u.cm)**0.5/u.s; B"
   ]
  },
  {
   "cell_type": "code",
   "execution_count": 7,
   "id": "65b8f92e-d8ee-411f-8c9e-16ff88db51fa",
   "metadata": {},
   "outputs": [],
   "source": [
    "mu = 2.381 # mean molecular weight in hydrogen atom mass\n",
    "T = 15 # in Kelvin"
   ]
  },
  {
   "cell_type": "code",
   "execution_count": 8,
   "id": "e2689b5d-ed1a-4fee-a2dd-1bad14e8620b",
   "metadata": {},
   "outputs": [
    {
     "name": "stdout",
     "output_type": "stream",
     "text": [
      "26868.01256121142 cm / s\n",
      "1.178221279074341\n",
      "22798.264654845523 cm / s\n",
      "0.9997539074061049\n",
      "18998.553879037932 cm / s\n",
      "0.833128256171754\n",
      "15440.933197668222 cm / s\n",
      "0.6771187865425737\n"
     ]
    }
   ],
   "source": [
    "for m in [36, 50, 72, 109]: # filament mass in solar mass\n",
    "    rho = filamentDens(m)\n",
    "    va = alfven(B, rho)\n",
    "    print(va)\n",
    "    Ma = alfven(B, rho)/soundSpeed(mu, T)\n",
    "    print(Ma)"
   ]
  },
  {
   "cell_type": "markdown",
   "id": "e583c18d-d16b-4e7f-bc41-260c1361128b",
   "metadata": {},
   "source": [
    "For B = 10.829 $\\mu G$:"
   ]
  },
  {
   "cell_type": "code",
   "execution_count": 10,
   "id": "e93f1426-b856-4096-b880-bc8a1c2c3571",
   "metadata": {},
   "outputs": [
    {
     "name": "stdout",
     "output_type": "stream",
     "text": [
      "13434.626588417534 cm / s\n",
      "0.5891378413952089\n",
      "11399.658676054956 cm / s\n",
      "0.4999000352449883\n",
      "9499.71556337913 cm / s\n",
      "0.4165833627041569\n",
      "7720.823087110366 cm / s\n",
      "0.3385750260640685\n"
     ]
    }
   ],
   "source": [
    "B = 10.829*1e-6* (u.g/u.cm)**0.5/u.s; B\n",
    "for m in [36, 50, 72, 109]: # filament mass in solar mass\n",
    "    rho = filamentDens(m)\n",
    "    va = alfven(B, rho)\n",
    "    print(va)\n",
    "    Ma = alfven(B, rho)/soundSpeed(mu, T)\n",
    "    print(Ma)"
   ]
  }
 ],
 "metadata": {
  "kernelspec": {
   "display_name": "Python 3 (ipykernel)",
   "language": "python",
   "name": "python3"
  },
  "language_info": {
   "codemirror_mode": {
    "name": "ipython",
    "version": 3
   },
   "file_extension": ".py",
   "mimetype": "text/x-python",
   "name": "python",
   "nbconvert_exporter": "python",
   "pygments_lexer": "ipython3",
   "version": "3.9.12"
  }
 },
 "nbformat": 4,
 "nbformat_minor": 5
}
