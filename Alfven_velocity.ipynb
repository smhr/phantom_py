{
 "cells": [
  {
   "cell_type": "markdown",
   "id": "638a4f0e-965a-4afa-ac37-88970bdc5a8a",
   "metadata": {},
   "source": [
    "### Calculation of Alfven velocity"
   ]
  },
  {
   "cell_type": "code",
   "execution_count": 1,
   "id": "52a0184b-70f3-4252-8be6-31c8f28483b4",
   "metadata": {},
   "outputs": [],
   "source": [
    "import numpy as np\n",
    "from math import pi as pi\n",
    "from astropy import constants as const\n",
    "from astropy import units as u"
   ]
  },
  {
   "cell_type": "code",
   "execution_count": 2,
   "id": "8a970c8d-c4dc-41f7-9ab9-a787eff5bc83",
   "metadata": {},
   "outputs": [],
   "source": [
    "def filamentDens(filamentM):\n",
    "    filamentM = filamentM*u.solMass #filament mass\n",
    "    filamentL = 1.5*u.pc #filament length\n",
    "    filamentR = 0.1*u.pc #filament radius\n",
    "    filamentV = pi*filamentR**2.*filamentL\n",
    "    filamentDens = filamentM/filamentV\n",
    "    return filamentDens.decompose(u.cgs.bases)"
   ]
  },
  {
   "cell_type": "code",
   "execution_count": 3,
   "id": "c1eba2e2-0cc8-421b-ac1c-4d40c3d2ac10",
   "metadata": {},
   "outputs": [],
   "source": [
    "def soundSpeed(mu, T):\n",
    "    T = T*u.Kelvin\n",
    "    cs = (const.k_B*T/mu/const.m_p)**(0.5)\n",
    "    cs = cs.decompose(u.cgs.bases)\n",
    "    return cs"
   ]
  },
  {
   "cell_type": "code",
   "execution_count": 4,
   "id": "47a85263-76a3-4c0d-bc36-e730393224fa",
   "metadata": {},
   "outputs": [],
   "source": [
    "def alfven(B, rho):\n",
    "    va = B/np.sqrt(4*pi*rho)\n",
    "    return va.decompose(u.cgs.bases)"
   ]
  },
  {
   "cell_type": "code",
   "execution_count": 5,
   "id": "299f49d3-1ae9-4583-b74c-d842a0bdfd50",
   "metadata": {},
   "outputs": [],
   "source": [
    "def fcyl(filamentM, filamentL):\n",
    "    \"\"\"\n",
    "    input:\n",
    "       filamentM: filament mass in Solar mass\n",
    "       filamentL: filament length in pc\n",
    "    \"\"\"\n",
    "    ml = 2*soundSpeed(2.381, 15)**2/const.G\n",
    "    ml = ml.decompose(u.cgs.bases)\n",
    "    solarmassperparsec = u.solMass/u.parsec\n",
    "    ml = ml.decompose(u.cgs.bases).to(solarmassperparsec)\n",
    "    m = ml.decompose(u.cgs.bases).to(solarmassperparsec)*filamentL*u.pc # mass of isothermal filament in hydrostatic equilibrium\n",
    "    fcyl = filamentM*u.solMass/m\n",
    "    return fcyl"
   ]
  },
  {
   "cell_type": "code",
   "execution_count": 6,
   "id": "033bdd0b-06b0-49bb-abf7-f2c5df100d68",
   "metadata": {},
   "outputs": [
    {
     "data": {
      "text/plain": [
       "'3'"
      ]
     },
     "execution_count": 6,
     "metadata": {},
     "output_type": "execute_result"
    }
   ],
   "source": [
    "str(round(float(fcyl(109, 1.5))))"
   ]
  },
  {
   "cell_type": "markdown",
   "id": "dbce9ad1-d7d0-4a01-91f6-e1f02f17ba17",
   "metadata": {},
   "source": [
    "**Calculation of Alfven velocity:**"
   ]
  },
  {
   "cell_type": "code",
   "execution_count": 7,
   "id": "f74c1cd2-ba8f-4c11-9323-9124e5697821",
   "metadata": {},
   "outputs": [
    {
     "data": {
      "text/latex": [
       "$2.1657 \\times 10^{-5} \\; \\mathrm{G}$"
      ],
      "text/plain": [
       "<Quantity 2.1657e-05 G>"
      ]
     },
     "execution_count": 7,
     "metadata": {},
     "output_type": "execute_result"
    }
   ],
   "source": [
    "B = 21.657*1e-6*u.Gauss; B"
   ]
  },
  {
   "cell_type": "markdown",
   "id": "227e4d6e-9fe6-4a75-a81f-bd16982acc32",
   "metadata": {},
   "source": [
    "In cgs, the unit of magnetic field can be written as:\n",
    "\n",
    "$[B] = [\\rm{pressure}]^{1/2} = (\\dfrac{[F]}{[A]})^{1/2} = \\dfrac{g^{1/2}}{cm^{1/2}\\,s}$"
   ]
  },
  {
   "cell_type": "markdown",
   "id": "9134a1e1-e519-4489-8951-31543b05acb4",
   "metadata": {},
   "source": [
    "So, we can write:"
   ]
  },
  {
   "cell_type": "code",
   "execution_count": 8,
   "id": "9a14be7a-db5f-4404-87c4-ca0828d1c94c",
   "metadata": {},
   "outputs": [
    {
     "data": {
      "text/latex": [
       "$2.1657 \\times 10^{-5} \\; \\mathrm{\\frac{g^{1/2}}{cm^{1/2}\\,s}}$"
      ],
      "text/plain": [
       "<Quantity 2.1657e-05 g(1/2) / (cm(1/2) s)>"
      ]
     },
     "execution_count": 8,
     "metadata": {},
     "output_type": "execute_result"
    }
   ],
   "source": [
    "B = 21.657*1e-6* (u.g/u.cm)**0.5/u.s; B"
   ]
  },
  {
   "cell_type": "code",
   "execution_count": 9,
   "id": "65b8f92e-d8ee-411f-8c9e-16ff88db51fa",
   "metadata": {},
   "outputs": [],
   "source": [
    "mu = 2.381 # mean molecular weight in hydrogen atom mass\n",
    "T = 15 # in Kelvin"
   ]
  },
  {
   "cell_type": "code",
   "execution_count": 10,
   "id": "918a1e90-dbdc-499a-9afa-d1a2ad45443f",
   "metadata": {},
   "outputs": [
    {
     "data": {
      "text/latex": [
       "$22803.877 \\; \\mathrm{\\frac{cm}{s}}$"
      ],
      "text/plain": [
       "<Quantity 22803.87651997 cm / s>"
      ]
     },
     "execution_count": 10,
     "metadata": {},
     "output_type": "execute_result"
    }
   ],
   "source": [
    "soundSpeed(mu, T)"
   ]
  },
  {
   "cell_type": "code",
   "execution_count": 11,
   "id": "14a004df-cdbc-4059-9ade-2c41be3163a8",
   "metadata": {},
   "outputs": [
    {
     "name": "stdout",
     "output_type": "stream",
     "text": [
      "M1B0A1     & 1 & 0  & -    & 1 & - \\\\\n",
      "M1B1paraA1 & 1 & 11 & para & 1 & 1.7 \\\\\n",
      "M1B1perpA1 & 1 & 11 & perp & 1 & 1.7 \\\\\n",
      "M1B2paraA1 & 1 & 22 & para & 1 & 0.8 \\\\\n",
      "M1B2perpA1 & 1 & 22 & perp & 1 & 0.8 \\\\\n",
      "M2B0A1     & 2 & 0  & -    & 1 & - \\\\\n",
      "M2B1paraA1 & 2 & 11 & para & 1 & 2.4 \\\\\n",
      "M2B1perpA1 & 2 & 11 & perp & 1 & 2.4 \\\\\n",
      "M2B2paraA1 & 2 & 22 & para & 1 & 1.2 \\\\\n",
      "M2B2perpA1 & 2 & 22 & perp & 1 & 1.2 \\\\\n",
      "M3B0A1     & 3 & 0  & -    & 1 & - \\\\\n",
      "M3B1paraA1 & 3 & 11 & para & 1 & 3.0 \\\\\n",
      "M3B1perpA1 & 3 & 11 & perp & 1 & 3.0 \\\\\n",
      "M3B2paraA1 & 3 & 22 & para & 1 & 1.5 \\\\\n",
      "M3B2perpA1 & 3 & 22 & perp & 1 & 1.5 \\\\\n",
      "M1B0A2.5     & 1 & 0  & -    & 2.5 & - \\\\\n",
      "M1B1paraA2.5 & 1 & 11 & para & 2.5 & 4.2 \\\\\n",
      "M1B1perpA2.5 & 1 & 11 & perp & 2.5 & 4.2 \\\\\n",
      "M1B2paraA2.5 & 1 & 22 & para & 2.5 & 2.1 \\\\\n",
      "M1B2perpA2.5 & 1 & 22 & perp & 2.5 & 2.1 \\\\\n",
      "M2B0A2.5     & 2 & 0  & -    & 2.5 & - \\\\\n",
      "M2B1paraA2.5 & 2 & 11 & para & 2.5 & 6.0 \\\\\n",
      "M2B1perpA2.5 & 2 & 11 & perp & 2.5 & 6.0 \\\\\n",
      "M2B2paraA2.5 & 2 & 22 & para & 2.5 & 3.0 \\\\\n",
      "M2B2perpA2.5 & 2 & 22 & perp & 2.5 & 3.0 \\\\\n",
      "M3B0A2.5     & 3 & 0  & -    & 2.5 & - \\\\\n",
      "M3B1paraA2.5 & 3 & 11 & para & 2.5 & 7.4 \\\\\n",
      "M3B1perpA2.5 & 3 & 11 & perp & 2.5 & 7.4 \\\\\n",
      "M3B2paraA2.5 & 3 & 22 & para & 2.5 & 3.7 \\\\\n",
      "M3B2perpA2.5 & 3 & 22 & perp & 2.5 & 3.7 \\\\\n"
     ]
    }
   ],
   "source": [
    "for Mach in [1, 2.5]:\n",
    "    for m in [36, 72, 109]: # filament mass in solar mass\n",
    "        Fcyl = fcyl(m, 1.5)\n",
    "        for B in ['0', '1', '2']:\n",
    "            if B != '0':\n",
    "                if B == '1':\n",
    "                    B_G = 10.829*1e-6* (u.g/u.cm)**0.5/u.s\n",
    "                if B == '2':\n",
    "                    B_G = 21.657*1e-6* (u.g/u.cm)**0.5/u.s\n",
    "                rho = filamentDens(m)\n",
    "                Ma_str = f\"{Mach * soundSpeed(mu, T)/alfven(B_G, rho):.1f}\"\n",
    "                B_G_str= str(round(B_G.value*1e6))\n",
    "                va = alfven(B_G, rho)\n",
    "                cs = soundSpeed(mu, T)\n",
    "                Ma = Mach * cs/va\n",
    "                Fcyl_str = str(round(float(fcyl(m, 1.5))))\n",
    "                    \n",
    "                for direction in ['para', 'perp']:\n",
    "                    # di = direction\n",
    "                \n",
    "                    modelname = 'M' +  Fcyl_str + 'B' + B + direction + 'A' + str(Mach)\n",
    "                    row = modelname + \" & \" + Fcyl_str + \" & \" + B_G_str + \" & \" + direction +  \" & \" + str(Mach) + \" & \" + Ma_str + r' \\\\'\n",
    "                    print(row)\n",
    "                    \n",
    "            else:\n",
    "                    Ma_str = '-'\n",
    "                    B_G_str= '0 '\n",
    "                    direction = ''\n",
    "                    Fcyl_str = str(round(float(fcyl(m, 1.5))))\n",
    "                    modelname = 'M' +  Fcyl_str + 'B' + B + direction + 'A' + str(Mach) + '    '  \n",
    "                    row = modelname + \" & \" + Fcyl_str + \" & \" + B_G_str + \" & \" + \"-   \" +  \" & \" + str(Mach) + \" & \" + Ma_str + r' \\\\'\n",
    "                    print(row)\n",
    "  "
   ]
  }
 ],
 "metadata": {
  "kernelspec": {
   "display_name": "Python 3 (ipykernel)",
   "language": "python",
   "name": "python3"
  },
  "language_info": {
   "codemirror_mode": {
    "name": "ipython",
    "version": 3
   },
   "file_extension": ".py",
   "mimetype": "text/x-python",
   "name": "python",
   "nbconvert_exporter": "python",
   "pygments_lexer": "ipython3",
   "version": "3.9.12"
  }
 },
 "nbformat": 4,
 "nbformat_minor": 5
}
