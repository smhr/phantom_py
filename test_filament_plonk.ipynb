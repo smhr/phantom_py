{
 "cells": [
  {
   "cell_type": "code",
   "execution_count": 39,
   "metadata": {},
   "outputs": [],
   "source": [
    "import numpy as np\n",
    "from scipy.spatial.transform import Rotation"
   ]
  },
  {
   "cell_type": "code",
   "execution_count": 11,
   "metadata": {},
   "outputs": [],
   "source": [
    "import plonk"
   ]
  },
  {
   "cell_type": "code",
   "execution_count": 12,
   "metadata": {},
   "outputs": [],
   "source": [
    "import matplotlib.pyplot as plt"
   ]
  },
  {
   "cell_type": "code",
   "execution_count": 6,
   "metadata": {},
   "outputs": [
    {
     "name": "stdout",
     "output_type": "stream",
     "text": [
      "runs/converge_test/M37N1Mrho15hac20/N1000M37rho15hac20_00000.h5\r\n"
     ]
    }
   ],
   "source": [
    "!ls runs/converge_test/M37N1Mrho15hac20/*.h5"
   ]
  },
  {
   "cell_type": "code",
   "execution_count": 20,
   "metadata": {},
   "outputs": [],
   "source": [
    "snap = plonk.load_snap('runs/converge_test/M37N1Mrho15hac20/N1000M37rho15hac20_00000.h5')"
   ]
  },
  {
   "cell_type": "code",
   "execution_count": 21,
   "metadata": {},
   "outputs": [
    {
     "data": {
      "text/plain": [
       "array([[-0.01921692, -0.09766085, -0.74772521],\n",
       "       [-0.01517651, -0.09766085, -0.74772521],\n",
       "       [-0.01113611, -0.09766085, -0.74772521],\n",
       "       ...,\n",
       "       [ 0.37191982,  0.39819817,  1.99483222],\n",
       "       [ 0.38441982,  0.39819817,  1.99483222],\n",
       "       [ 0.39691982,  0.39819817,  1.99483222]])"
      ]
     },
     "execution_count": 21,
     "metadata": {},
     "output_type": "execute_result"
    }
   ],
   "source": [
    "snap['position']"
   ]
  },
  {
   "cell_type": "code",
   "execution_count": 30,
   "metadata": {},
   "outputs": [
    {
     "data": {
      "text/plain": [
       "['time',\n",
       " 'udist',\n",
       " 'utime',\n",
       " 'umass',\n",
       " 'hfact',\n",
       " 'ieos',\n",
       " 'gamma',\n",
       " 'polyk',\n",
       " 'qfacdisc']"
      ]
     },
     "execution_count": 30,
     "metadata": {},
     "output_type": "execute_result"
    }
   ],
   "source": [
    "list(snap.properties)"
   ]
  },
  {
   "cell_type": "code",
   "execution_count": 25,
   "metadata": {},
   "outputs": [
    {
     "data": {
      "text/plain": [
       "('density', 'position')"
      ]
     },
     "execution_count": 25,
     "metadata": {},
     "output_type": "execute_result"
    }
   ],
   "source": [
    "snap.loaded_arrays()"
   ]
  },
  {
   "cell_type": "code",
   "execution_count": 54,
   "metadata": {},
   "outputs": [
    {
     "data": {
      "text/plain": [
       "{'time': 0.0,\n",
       " 'udist': 3.086e+18 <Unit('centimeter')>,\n",
       " 'utime': 470582985518987.94 <Unit('second')>,\n",
       " 'umass': 1.9891e+33 <Unit('gram')>,\n",
       " 'hfact': 1.2,\n",
       " 'ieos': 8,\n",
       " 'gamma': 1.0,\n",
       " 'polyk': 12.089528999999999,\n",
       " 'qfacdisc': 0.75}"
      ]
     },
     "execution_count": 54,
     "metadata": {},
     "output_type": "execute_result"
    }
   ],
   "source": [
    "snap.properties"
   ]
  },
  {
   "cell_type": "code",
   "execution_count": 55,
   "metadata": {},
   "outputs": [
    {
     "data": {
      "text/plain": [
       "1.2"
      ]
     },
     "execution_count": 55,
     "metadata": {},
     "output_type": "execute_result"
    }
   ],
   "source": [
    "snap.properties['hfact']"
   ]
  },
  {
   "cell_type": "code",
   "execution_count": 35,
   "metadata": {},
   "outputs": [
    {
     "data": {
      "text/plain": [
       "array([-0.74772521, -0.74772521, -0.74772521, ...,  1.99483222,\n",
       "        1.99483222,  1.99483222])"
      ]
     },
     "execution_count": 35,
     "metadata": {},
     "output_type": "execute_result"
    }
   ],
   "source": [
    "snap['z']"
   ]
  },
  {
   "cell_type": "code",
   "execution_count": 37,
   "metadata": {},
   "outputs": [
    {
     "data": {
      "image/png": "[encoded data removed]",
      "text/plain": [
       "<Figure size 432x288 with 2 Axes>"
      ]
     },
     "metadata": {
      "needs_background": "light"
     },
     "output_type": "display_data"
    }
   ],
   "source": [
    "viz = plonk.visualize.render(snap=snap, quantity='density')"
   ]
  },
  {
   "cell_type": "code",
   "execution_count": 43,
   "metadata": {},
   "outputs": [],
   "source": [
    "rotation_angle = np.pi / 2.\n",
    "rotation_vector = np.array([0, 1, 0])\n",
    "rotation_vector = rotation_vector / np.linalg.norm(rotation_vector)\n",
    "rotation = Rotation.from_rotvec(rotation_angle * rotation_vector)"
   ]
  },
  {
   "cell_type": "code",
   "execution_count": 44,
   "metadata": {},
   "outputs": [
    {
     "data": {
      "text/plain": [
       "<plonk.Snap>"
      ]
     },
     "execution_count": 44,
     "metadata": {},
     "output_type": "execute_result"
    }
   ],
   "source": [
    "snap.rotate(rotation)"
   ]
  },
  {
   "cell_type": "code",
   "execution_count": 51,
   "metadata": {},
   "outputs": [
    {
     "data": {
      "image/png": "[encoded data removed]",
      "text/plain": [
       "<Figure size 432x288 with 2 Axes>"
      ]
     },
     "metadata": {
      "needs_background": "light"
     },
     "output_type": "display_data"
    }
   ],
   "source": [
    "plonk.visualize.render(snap, quantity='rho')\n",
    "plt.show()"
   ]
  },
  {
   "cell_type": "code",
   "execution_count": 61,
   "metadata": {},
   "outputs": [
    {
     "data": {
      "image/png": "[encoded data removed]",
      "text/plain": [
       "<Figure size 432x288 with 2 Axes>"
      ]
     },
     "metadata": {
      "needs_background": "light"
     },
     "output_type": "display_data"
    }
   ],
   "source": [
    "viz = plonk.visualize.plot(\n",
    "    scalar_data=snap['density'],\n",
    "#     vector_data=snap['velocity'][:, 0::2],\n",
    "    x_coordinate=snap['position'][:, 0],\n",
    "    y_coordinate=snap['position'][:, 2],\n",
    "    z_coordinate=snap['position'][:, 1],\n",
    "    extent=(-1, 1, -0.2, 0.2),\n",
    "    particle_mass=snap['m'],\n",
    "    smoothing_length=snap['h'],\n",
    "    hfact=snap.properties['hfact'],\n",
    "    scalar_options={'cmap': 'viridis'},\n",
    "#     vector_options={'vector_color': 'white'},\n",
    "#     interpolation_options={'cross_section': planet[1]},\n",
    "    )"
   ]
  },
  {
   "cell_type": "code",
   "execution_count": null,
   "metadata": {},
   "outputs": [],
   "source": []
  }
 ],
 "metadata": {
  "kernelspec": {
   "display_name": "Python 3",
   "language": "python",
   "name": "python3"
  },
  "language_info": {
   "codemirror_mode": {
    "name": "ipython",
    "version": 3
   },
   "file_extension": ".py",
   "mimetype": "text/x-python",
   "name": "python",
   "nbconvert_exporter": "python",
   "pygments_lexer": "ipython3",
   "version": "3.8.0"
  }
 },
 "nbformat": 4,
 "nbformat_minor": 2
}
