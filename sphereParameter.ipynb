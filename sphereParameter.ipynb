{
 "cells": [
  {
   "cell_type": "markdown",
   "metadata": {},
   "source": [
    "### Sphere parameters for Makecloud"
   ]
  },
  {
   "cell_type": "code",
   "execution_count": 1,
   "metadata": {},
   "outputs": [],
   "source": [
    "import numpy as np\n",
    "import math\n",
    "from astropy import constants as const\n",
    "from astropy import units as u\n",
    "#from astropy.constants import si"
   ]
  },
  {
   "cell_type": "code",
   "execution_count": 2,
   "metadata": {},
   "outputs": [],
   "source": [
    "densUnit = u.solMass/(u.pc)**3."
   ]
  },
  {
   "cell_type": "code",
   "execution_count": 3,
   "metadata": {},
   "outputs": [
    {
     "data": {
      "text/latex": [
       "$\\mathrm{\\frac{M_{\\odot}}{pc^{3}}}$"
      ],
      "text/plain": [
       "Unit(\"solMass / pc3\")"
      ]
     },
     "execution_count": 3,
     "metadata": {},
     "output_type": "execute_result"
    }
   ],
   "source": [
    "densUnit"
   ]
  },
  {
   "cell_type": "code",
   "execution_count": 4,
   "metadata": {},
   "outputs": [
    {
     "data": {
      "text/latex": [
       "$4.1023508 \\times 10^{-21} \\; \\mathrm{\\frac{g}{cm^{3}}}$"
      ],
      "text/plain": [
       "<Quantity 4.10235077e-21 g / cm3>"
      ]
     },
     "execution_count": 4,
     "metadata": {},
     "output_type": "execute_result"
    }
   ],
   "source": [
    "boxM = 5900*u.solMass #box mass\n",
    "boxL = 4.6*u.pc #box edge lenght\n",
    "boxV = boxL**3\n",
    "boxDens = boxM/boxV\n",
    "boxDens.decompose(u.cgs.bases)"
   ]
  },
  {
   "cell_type": "code",
   "execution_count": 5,
   "metadata": {},
   "outputs": [
    {
     "data": {
      "text/latex": [
       "$1.009824 \\times 10^{-20} \\; \\mathrm{\\frac{g}{cm^{3}}}$"
      ],
      "text/plain": [
       "<Quantity 1.00982399e-20 g / cm3>"
      ]
     },
     "execution_count": 5,
     "metadata": {},
     "output_type": "execute_result"
    }
   ],
   "source": [
    "sphereM = 5000*u.solMass #sphere mass\n",
    "sphereR = 2*u.pc #sphere radius\n",
    "sphereV = 4./3*math.pi*sphereR**3\n",
    "sphereDens = sphereM/sphereV\n",
    "sphereDens.decompose(u.cgs.bases)"
   ]
  },
  {
   "cell_type": "code",
   "execution_count": 6,
   "metadata": {},
   "outputs": [
    {
     "data": {
      "text/latex": [
       "$1.009824 \\times 10^{-20} \\; \\mathrm{\\frac{g}{cm^{3}}}$"
      ],
      "text/plain": [
       "<Quantity 1.00982399e-20 g / cm3>"
      ]
     },
     "execution_count": 6,
     "metadata": {},
     "output_type": "execute_result"
    }
   ],
   "source": [
    "sphereM = 5000/10.*u.solMass #sphere mass\n",
    "sphereR = 2/(10**(1./3))*u.pc #sphere radius\n",
    "sphereV = 4./3*math.pi*sphereR**3\n",
    "sphereDens = sphereM/sphereV\n",
    "sphereDens.decompose(u.cgs.bases)"
   ]
  },
  {
   "cell_type": "code",
   "execution_count": 7,
   "metadata": {},
   "outputs": [
    {
     "data": {
      "text/latex": [
       "$500 \\; \\mathrm{M_{\\odot}}$"
      ],
      "text/plain": [
       "<Quantity 500. solMass>"
      ]
     },
     "execution_count": 7,
     "metadata": {},
     "output_type": "execute_result"
    }
   ],
   "source": [
    "sphereM"
   ]
  },
  {
   "cell_type": "code",
   "execution_count": 8,
   "metadata": {},
   "outputs": [
    {
     "data": {
      "text/latex": [
       "$0.92831777 \\; \\mathrm{pc}$"
      ],
      "text/plain": [
       "<Quantity 0.92831777 pc>"
      ]
     },
     "execution_count": 8,
     "metadata": {},
     "output_type": "execute_result"
    }
   ],
   "source": [
    "sphereR"
   ]
  },
  {
   "cell_type": "code",
   "execution_count": 9,
   "metadata": {
    "tags": []
   },
   "outputs": [
    {
     "data": {
      "text/latex": [
       "$6037.3715 \\; \\mathrm{\\frac{1}{cm^{3}}}$"
      ],
      "text/plain": [
       "<Quantity 6037.37146532 1 / cm3>"
      ]
     },
     "execution_count": 9,
     "metadata": {},
     "output_type": "execute_result"
    }
   ],
   "source": [
    "sphereDens.decompose(u.cgs.bases)/(const.m_p.to(u.g))"
   ]
  },
  {
   "cell_type": "code",
   "execution_count": 10,
   "metadata": {
    "tags": []
   },
   "outputs": [
    {
     "data": {
      "text/latex": [
       "$71743.649 \\; \\mathrm{\\frac{1}{cm^{3}}}$"
      ],
      "text/plain": [
       "<Quantity 71743.64887868 1 / cm3>"
      ]
     },
     "execution_count": 10,
     "metadata": {},
     "output_type": "execute_result"
    }
   ],
   "source": [
    "(1.2e-19*u.g/u.cm**3).decompose(u.cgs.bases)/(const.m_p.to(u.g)) # Bate (2019) paper value"
   ]
  },
  {
   "cell_type": "markdown",
   "metadata": {},
   "source": [
    "**Calcualtion of sound speed:**"
   ]
  },
  {
   "cell_type": "markdown",
   "metadata": {},
   "source": [
    "Input $\\mu$ and temperature:"
   ]
  },
  {
   "cell_type": "code",
   "execution_count": 11,
   "metadata": {},
   "outputs": [],
   "source": [
    "mu = 2.381; T = 10*u.Kelvin\n",
    "# mu = 2.36; T = 10*u.Kelvin"
   ]
  },
  {
   "cell_type": "code",
   "execution_count": 12,
   "metadata": {},
   "outputs": [
    {
     "data": {
      "text/latex": [
       "$1.380649 \\times 10^{-23} \\; \\mathrm{\\frac{J}{K}}$"
      ],
      "text/plain": [
       "<<class 'astropy.constants.codata2018.CODATA2018'> name='Boltzmann constant' value=1.380649e-23 uncertainty=0.0 unit='J / K' reference='CODATA 2018'>"
      ]
     },
     "execution_count": 12,
     "metadata": {},
     "output_type": "execute_result"
    }
   ],
   "source": [
    "const.k_B"
   ]
  },
  {
   "cell_type": "code",
   "execution_count": 13,
   "metadata": {},
   "outputs": [
    {
     "data": {
      "text/latex": [
       "$1.6726219 \\times 10^{-27} \\; \\mathrm{kg}$"
      ],
      "text/plain": [
       "<<class 'astropy.constants.codata2018.CODATA2018'> name='Proton mass' value=1.67262192369e-27 uncertainty=5.1e-37 unit='kg' reference='CODATA 2018'>"
      ]
     },
     "execution_count": 13,
     "metadata": {},
     "output_type": "execute_result"
    }
   ],
   "source": [
    "const.m_p"
   ]
  },
  {
   "cell_type": "code",
   "execution_count": 14,
   "metadata": {},
   "outputs": [],
   "source": [
    "cs = (const.k_B*T/mu/const.m_p)**(0.5)"
   ]
  },
  {
   "cell_type": "code",
   "execution_count": 15,
   "metadata": {},
   "outputs": [
    {
     "data": {
      "text/latex": [
       "$186.19287 \\; \\mathrm{\\frac{J^{1/2}}{kg^{1/2}}}$"
      ],
      "text/plain": [
       "<Quantity 186.1928721 J(1/2) / kg(1/2)>"
      ]
     },
     "execution_count": 15,
     "metadata": {},
     "output_type": "execute_result"
    }
   ],
   "source": [
    "cs"
   ]
  },
  {
   "cell_type": "code",
   "execution_count": 16,
   "metadata": {},
   "outputs": [
    {
     "data": {
      "text/latex": [
       "$18619.287 \\; \\mathrm{\\frac{cm}{s}}$"
      ],
      "text/plain": [
       "<Quantity 18619.28721045 cm / s>"
      ]
     },
     "execution_count": 16,
     "metadata": {},
     "output_type": "execute_result"
    }
   ],
   "source": [
    "soundSpeed = cs.decompose(u.cgs.bases); soundSpeed"
   ]
  },
  {
   "cell_type": "markdown",
   "metadata": {},
   "source": [
    "But we need to know the sound speed in the code unit when we input initial parameters for the Phantom code."
   ]
  },
  {
   "cell_type": "code",
   "execution_count": 17,
   "metadata": {},
   "outputs": [
    {
     "data": {
      "text/latex": [
       "$6.6743 \\times 10^{-11} \\; \\mathrm{\\frac{m^{3}}{kg\\,s^{2}}}$"
      ],
      "text/plain": [
       "<<class 'astropy.constants.codata2018.CODATA2018'> name='Gravitational constant' value=6.6743e-11 uncertainty=1.5e-15 unit='m3 / (kg s2)' reference='CODATA 2018'>"
      ]
     },
     "execution_count": 17,
     "metadata": {},
     "output_type": "execute_result"
    }
   ],
   "source": [
    "const.G"
   ]
  },
  {
   "cell_type": "code",
   "execution_count": 18,
   "metadata": {},
   "outputs": [
    {
     "data": {
      "text/latex": [
       "$\\mathrm{\\frac{m^{3}}{kg\\,s^{2}}}$"
      ],
      "text/plain": [
       "Unit(\"m3 / (kg s2)\")"
      ]
     },
     "execution_count": 18,
     "metadata": {},
     "output_type": "execute_result"
    }
   ],
   "source": [
    "const.G.unit"
   ]
  },
  {
   "cell_type": "code",
   "execution_count": 19,
   "metadata": {},
   "outputs": [
    {
     "data": {
      "text/latex": [
       "$\\mathrm{s}$"
      ],
      "text/plain": [
       "Unit(\"s\")"
      ]
     },
     "execution_count": 19,
     "metadata": {},
     "output_type": "execute_result"
    }
   ],
   "source": [
    "timeUnitSi = (u.m**3/const.G.unit/u.kg)**(0.5); timeUnitSi"
   ]
  },
  {
   "cell_type": "code",
   "execution_count": 20,
   "metadata": {},
   "outputs": [],
   "source": [
    "timeUnit = (const.pc**3/(const.G)/const.M_sun)**(0.5)"
   ]
  },
  {
   "cell_type": "code",
   "execution_count": 21,
   "metadata": {},
   "outputs": [
    {
     "data": {
      "text/latex": [
       "$4.7051124 \\times 10^{14} \\; \\mathrm{s}$"
      ],
      "text/plain": [
       "<Quantity 4.70511238e+14 s>"
      ]
     },
     "execution_count": 21,
     "metadata": {},
     "output_type": "execute_result"
    }
   ],
   "source": [
    "timeUnit"
   ]
  },
  {
   "cell_type": "code",
   "execution_count": 22,
   "metadata": {},
   "outputs": [
    {
     "data": {
      "text/latex": [
       "$2.1253477 \\times 10^{-15} \\; \\mathrm{\\frac{pc}{s}}$"
      ],
      "text/plain": [
       "<Quantity 2.12534775e-15 pc / s>"
      ]
     },
     "execution_count": 22,
     "metadata": {},
     "output_type": "execute_result"
    }
   ],
   "source": [
    "velocityUnit = u.pc/timeUnit; velocityUnit"
   ]
  },
  {
   "cell_type": "code",
   "execution_count": 23,
   "metadata": {},
   "outputs": [
    {
     "data": {
      "text/latex": [
       "$8.7605839 \\times 10^{18} \\; \\mathrm{\\frac{cm}{pc}}$"
      ],
      "text/plain": [
       "<Quantity 8.76058388e+18 cm / pc>"
      ]
     },
     "execution_count": 23,
     "metadata": {},
     "output_type": "execute_result"
    }
   ],
   "source": [
    "soundSpeedDimless = soundSpeed/velocityUnit; soundSpeedDimless"
   ]
  },
  {
   "cell_type": "code",
   "execution_count": 24,
   "metadata": {},
   "outputs": [
    {
     "data": {
      "text/latex": [
       "$2.8391119 \\; \\mathrm{}$"
      ],
      "text/plain": [
       "<Quantity 2.83911188>"
      ]
     },
     "execution_count": 24,
     "metadata": {},
     "output_type": "execute_result"
    }
   ],
   "source": [
    "soundSpeedDimless.decompose(u.cgs.bases)"
   ]
  },
  {
   "cell_type": "markdown",
   "metadata": {},
   "source": [
    "Calculation of maximum density that can be resolved:"
   ]
  },
  {
   "cell_type": "code",
   "execution_count": 25,
   "metadata": {},
   "outputs": [
    {
     "data": {
      "text/latex": [
       "$8.3144626 \\; \\mathrm{\\frac{J}{K\\,g}}$"
      ],
      "text/plain": [
       "<Quantity 8.31446262 J / (g K)>"
      ]
     },
     "execution_count": 25,
     "metadata": {},
     "output_type": "execute_result"
    }
   ],
   "source": [
    "Rg = const.R*u.mol/u.gram; Rg"
   ]
  },
  {
   "cell_type": "markdown",
   "metadata": {},
   "source": [
    "### Calculation of Jeans length:"
   ]
  },
  {
   "cell_type": "code",
   "execution_count": 26,
   "metadata": {},
   "outputs": [],
   "source": [
    "# sphereM = 50*u.solMass #sphere mass\n",
    "\n",
    "# sphereDens = sphereM/sphereV\n",
    "# sphereDens.decompose(u.cgs.bases)"
   ]
  },
  {
   "cell_type": "code",
   "execution_count": 27,
   "metadata": {},
   "outputs": [
    {
     "data": {
      "text/latex": [
       "$3.3070398 \\times 10^{8} \\; \\mathrm{\\frac{pc^{3/2}\\,cm\\,kg^{1/2}}{M_{\\odot}^{1/2}\\,m^{3/2}}}$"
      ],
      "text/plain": [
       "<Quantity 3.3070398e+08 cm kg(1/2) pc(3/2) / (m(3/2) solMass(1/2))>"
      ]
     },
     "execution_count": 27,
     "metadata": {},
     "output_type": "execute_result"
    }
   ],
   "source": [
    "JeansL = (math.pi*soundSpeed**2/const.G/sphereDens)**(1/2.); JeansL"
   ]
  },
  {
   "cell_type": "code",
   "execution_count": 28,
   "metadata": {},
   "outputs": [
    {
     "data": {
      "text/latex": [
       "$1.2711953 \\times 10^{18} \\; \\mathrm{cm}$"
      ],
      "text/plain": [
       "<Quantity 1.27119532e+18 cm>"
      ]
     },
     "execution_count": 28,
     "metadata": {},
     "output_type": "execute_result"
    }
   ],
   "source": [
    "JeansL.decompose(u.cgs.bases)"
   ]
  },
  {
   "cell_type": "code",
   "execution_count": 29,
   "metadata": {},
   "outputs": [
    {
     "data": {
      "text/latex": [
       "$0.41196635 \\; \\mathrm{pc}$"
      ],
      "text/plain": [
       "<Quantity 0.41196635 pc>"
      ]
     },
     "execution_count": 29,
     "metadata": {},
     "output_type": "execute_result"
    }
   ],
   "source": [
    "JeansL.decompose(u.cgs.bases).to(u.parsec)"
   ]
  },
  {
   "cell_type": "code",
   "execution_count": 30,
   "metadata": {},
   "outputs": [],
   "source": [
    "# function to calculate rho_crit (Bate & Burkert 1997)\n",
    "def calcRhoCrit (T, mu, Ntot, Mtot):\n",
    "    Nnei = 32\n",
    "    rhoCrit = (3./4/math.pi) * (5*Rg*T/2/const.G/mu)**3 * (Ntot/(2*Nnei)/Mtot)**2\n",
    "    return rhoCrit.decompose(u.cgs.bases)\n",
    "\n",
    "# function to calculate rho_crit (Hubber et al. 2006)\n",
    "def calcRhoCritHubber (T, mu, Ntot, Mtot):\n",
    "    ss2 = (const.k_B*T/mu/const.m_p) # sound speed ^ 2\n",
    "    Nnei = 32\n",
    "    rhoCritHubber = (math.pi*ss2/const.G)**3 * (math.pi/(6*Nnei*(Mtot/Ntot)))**2\n",
    "    return rhoCritHubber.decompose(u.cgs.bases)"
   ]
  },
  {
   "cell_type": "code",
   "execution_count": 31,
   "metadata": {},
   "outputs": [
    {
     "data": {
      "text/latex": [
       "$4.7503908 \\times 10^{-17} \\; \\mathrm{\\frac{g}{cm^{3}}}$"
      ],
      "text/plain": [
       "<Quantity 4.75039079e-17 g / cm3>"
      ]
     },
     "execution_count": 31,
     "metadata": {},
     "output_type": "execute_result"
    }
   ],
   "source": [
    "calcRhoCrit (T = 10*u.Kelvin, mu = 2.381, Ntot = 600000, Mtot = 500*const.M_sun)"
   ]
  },
  {
   "cell_type": "code",
   "execution_count": 32,
   "metadata": {},
   "outputs": [
    {
     "data": {
      "text/latex": [
       "$1.4417578 \\times 10^{-14} \\; \\mathrm{\\frac{g}{cm^{3}}}$"
      ],
      "text/plain": [
       "<Quantity 1.44175777e-14 g / cm3>"
      ]
     },
     "execution_count": 32,
     "metadata": {},
     "output_type": "execute_result"
    }
   ],
   "source": [
    "calcRhoCritHubber (T = 10*u.Kelvin, mu = 2.381, Ntot = 3500000, Mtot = 500*const.M_sun)"
   ]
  },
  {
   "cell_type": "markdown",
   "metadata": {},
   "source": [
    "### Jeans length at critical density:"
   ]
  },
  {
   "cell_type": "code",
   "execution_count": 33,
   "metadata": {},
   "outputs": [
    {
     "name": "stdout",
     "output_type": "stream",
     "text": [
      "1.616452421128322e-15 g / cm3\n",
      "0.0010296819918969198 pc\n"
     ]
    }
   ],
   "source": [
    "rhoCrit = calcRhoCrit (T = 10*u.Kelvin, mu = 2.381, Ntot = 3500000, Mtot = 500*const.M_sun); print(rhoCrit)\n",
    "JeansLengthCrit = (math.pi*soundSpeed**2/const.G/rhoCrit)**(1/2.)\n",
    "print(JeansLengthCrit.decompose(u.cgs.bases).to(u.pc))"
   ]
  },
  {
   "cell_type": "code",
   "execution_count": 34,
   "metadata": {},
   "outputs": [
    {
     "data": {
      "text/latex": [
       "$1.6726219 \\times 10^{-24} \\; \\mathrm{g}$"
      ],
      "text/plain": [
       "<Quantity 1.67262192e-24 g>"
      ]
     },
     "execution_count": 34,
     "metadata": {},
     "output_type": "execute_result"
    }
   ],
   "source": [
    "const.m_p.to(u.g)"
   ]
  },
  {
   "cell_type": "code",
   "execution_count": 35,
   "metadata": {},
   "outputs": [
    {
     "data": {
      "text/latex": [
       "$1.6164524 \\times 10^{-15} \\; \\mathrm{\\frac{g}{cm^{3}}}$"
      ],
      "text/plain": [
       "<Quantity 1.61645242e-15 g / cm3>"
      ]
     },
     "execution_count": 35,
     "metadata": {},
     "output_type": "execute_result"
    }
   ],
   "source": [
    "rhoCrit"
   ]
  },
  {
   "cell_type": "code",
   "execution_count": 36,
   "metadata": {},
   "outputs": [
    {
     "data": {
      "text/latex": [
       "$9.6641829 \\times 10^{8} \\; \\mathrm{\\frac{1}{cm^{3}}}$"
      ],
      "text/plain": [
       "<Quantity 9.66418291e+08 1 / cm3>"
      ]
     },
     "execution_count": 36,
     "metadata": {},
     "output_type": "execute_result"
    }
   ],
   "source": [
    "rhoCrit/(const.m_p.to(u.g))"
   ]
  },
  {
   "cell_type": "code",
   "execution_count": 37,
   "metadata": {},
   "outputs": [
    {
     "name": "stdout",
     "output_type": "stream",
     "text": [
      "597863740.6556784 1 / cm3\n"
     ]
    }
   ],
   "source": [
    "## I adopt this value\n",
    "n_crit = 1e-15*u.g/u.cm**3/(const.m_p.to(u.g)) ## n for rho_crit =  10^-18 (g/cm^3) <-----------------\n",
    "print(n_crit)"
   ]
  },
  {
   "cell_type": "code",
   "execution_count": 38,
   "metadata": {},
   "outputs": [
    {
     "data": {
      "text/latex": [
       "$5.9786374 \\times 10^{12} \\; \\mathrm{\\frac{1}{cm^{3}}}$"
      ],
      "text/plain": [
       "<Quantity 5.97863741e+12 1 / cm3>"
      ]
     },
     "execution_count": 38,
     "metadata": {},
     "output_type": "execute_result"
    }
   ],
   "source": [
    "1e-11*u.g/u.cm**3/(const.m_p.to(u.g)) ## n for rho_crit =  10^-11 (g/cm^3)"
   ]
  },
  {
   "cell_type": "code",
   "execution_count": 39,
   "metadata": {},
   "outputs": [
    {
     "data": {
      "text/plain": [
       "4.848136811133344e-06"
      ]
     },
     "execution_count": 39,
     "metadata": {},
     "output_type": "execute_result"
    }
   ],
   "source": [
    "u.AU.to(u.pc)"
   ]
  },
  {
   "cell_type": "code",
   "execution_count": 40,
   "metadata": {},
   "outputs": [
    {
     "data": {
      "text/plain": [
       "206264.80624548031"
      ]
     },
     "execution_count": 40,
     "metadata": {},
     "output_type": "execute_result"
    }
   ],
   "source": [
    "u.pc.to(u.AU)"
   ]
  },
  {
   "cell_type": "code",
   "execution_count": 41,
   "metadata": {},
   "outputs": [
    {
     "data": {
      "text/plain": [
       "6.414835474234438"
      ]
     },
     "execution_count": 41,
     "metadata": {},
     "output_type": "execute_result"
    }
   ],
   "source": [
    "# softening = 3.11e-5 # ~6.5 AU, minimum sink radius is 2.8 times that (~18 AU) in MakeCloud\n",
    "3.11e-5*u.pc.to(u.AU)"
   ]
  },
  {
   "cell_type": "code",
   "execution_count": 42,
   "metadata": {},
   "outputs": [
    {
     "data": {
      "text/plain": [
       "0.004125296124909607"
      ]
     },
     "execution_count": 42,
     "metadata": {},
     "output_type": "execute_result"
    }
   ],
   "source": [
    "# Gas softening in MakeCloud\n",
    "2.0e-8*u.pc.to(u.AU)"
   ]
  },
  {
   "cell_type": "markdown",
   "metadata": {},
   "source": [
    "### Jeans length at critical density for sink creation:"
   ]
  },
  {
   "cell_type": "code",
   "execution_count": 43,
   "metadata": {},
   "outputs": [
    {
     "name": "stdout",
     "output_type": "stream",
     "text": [
      "270.0285682073956 AU\n",
      "0.0013091354415839056 pc\n",
      "sink radius 0.0036655792364349354 pc\n",
      "sink radius 756.0799909807076 AU\n"
     ]
    }
   ],
   "source": [
    "rhoSink = 1e-15*u.gram/u.cm**3 \n",
    "JeansLengthSink = (math.pi*soundSpeed**2/const.G/rhoSink)**(1/2.)\n",
    "print(JeansLengthSink.decompose(u.cgs.bases).to(u.AU)) \n",
    "print(JeansLengthSink.decompose(u.cgs.bases).to(u.pc)) # I adpot this for softening radius <-----------------\n",
    "print(\"sink radius\", JeansLengthSink.decompose(u.cgs.bases).to(u.pc)*2.8)\n",
    "print(\"sink radius\", JeansLengthSink.decompose(u.cgs.bases).to(u.AU)*2.8)"
   ]
  },
  {
   "cell_type": "markdown",
   "metadata": {},
   "source": [
    "### Critical density for Bate (2009, MNRAS, 397, 232–248) initial condition:"
   ]
  },
  {
   "cell_type": "code",
   "execution_count": 44,
   "metadata": {},
   "outputs": [
    {
     "data": {
      "text/latex": [
       "$1.4656686 \\times 10^{-13} \\; \\mathrm{\\frac{g}{cm^{3}}}$"
      ],
      "text/plain": [
       "<Quantity 1.46566862e-13 g / cm3>"
      ]
     },
     "execution_count": 44,
     "metadata": {},
     "output_type": "execute_result"
    }
   ],
   "source": [
    "calcRhoCrit (T = 10*u.Kelvin, mu = 2.46, Ntot = 3500000, Mtot = 50*const.M_sun)"
   ]
  },
  {
   "cell_type": "code",
   "execution_count": 45,
   "metadata": {},
   "outputs": [
    {
     "data": {
      "text/latex": [
       "$1.3072696 \\times 10^{-12} \\; \\mathrm{\\frac{g}{cm^{3}}}$"
      ],
      "text/plain": [
       "<Quantity 1.30726961e-12 g / cm3>"
      ]
     },
     "execution_count": 45,
     "metadata": {},
     "output_type": "execute_result"
    }
   ],
   "source": [
    "calcRhoCritHubber (T = 10*u.Kelvin, mu = 2.46, Ntot = 3500000, Mtot = 50*const.M_sun)"
   ]
  },
  {
   "cell_type": "code",
   "execution_count": 46,
   "metadata": {},
   "outputs": [
    {
     "data": {
      "text/plain": [
       "206264.80624548031"
      ]
     },
     "execution_count": 46,
     "metadata": {},
     "output_type": "execute_result"
    }
   ],
   "source": [
    "u.pc.to(u.AU)"
   ]
  },
  {
   "cell_type": "markdown",
   "metadata": {},
   "source": [
    "### Minimum space between particles in the cylinder"
   ]
  },
  {
   "cell_type": "code",
   "execution_count": 47,
   "metadata": {},
   "outputs": [
    {
     "name": "stdout",
     "output_type": "stream",
     "text": [
      "0.005395602646429833 pc\n"
     ]
    }
   ],
   "source": [
    "r   = 0.1\n",
    "h   = 1.5\n",
    "N   = 300000\n",
    "Vol = np.pi*r*r*h\n",
    "rd  = (Vol/N)**(1/3.)\n",
    "print(rd, \"pc\")"
   ]
  },
  {
   "cell_type": "code",
   "execution_count": 48,
   "metadata": {},
   "outputs": [
    {
     "data": {
      "text/plain": [
       "278.00416344456374"
      ]
     },
     "execution_count": 48,
     "metadata": {},
     "output_type": "execute_result"
    }
   ],
   "source": [
    "h/rd"
   ]
  },
  {
   "cell_type": "markdown",
   "metadata": {},
   "source": [
    "So, the maximum wave number $k_{max}$ must not be grater than 278."
   ]
  },
  {
   "cell_type": "markdown",
   "metadata": {},
   "source": [
    "---\n",
    "Compute $\\cal{M}$ for Price papers:"
   ]
  },
  {
   "cell_type": "code",
   "execution_count": 81,
   "metadata": {},
   "outputs": [
    {
     "data": {
      "text/latex": [
       "$184 \\; \\mathrm{\\frac{m}{s}}$"
      ],
      "text/plain": [
       "<Quantity 184. m / s>"
      ]
     },
     "execution_count": 81,
     "metadata": {},
     "output_type": "execute_result"
    }
   ],
   "source": [
    "cs = 184*(u.m/u.s)\n",
    "cs"
   ]
  },
  {
   "cell_type": "code",
   "execution_count": 82,
   "metadata": {},
   "outputs": [
    {
     "data": {
      "text/latex": [
       "$6.6743 \\times 10^{-11} \\; \\mathrm{\\frac{m^{3}}{kg\\,s^{2}}}$"
      ],
      "text/plain": [
       "<<class 'astropy.constants.codata2018.CODATA2018'> name='Gravitational constant' value=6.6743e-11 uncertainty=1.5e-15 unit='m3 / (kg s2)' reference='CODATA 2018'>"
      ]
     },
     "execution_count": 82,
     "metadata": {},
     "output_type": "execute_result"
    }
   ],
   "source": [
    "G = const.G\n",
    "G"
   ]
  },
  {
   "cell_type": "code",
   "execution_count": 98,
   "metadata": {},
   "outputs": [
    {
     "data": {
      "text/latex": [
       "$6.3758444 \\; \\mathrm{}$"
      ],
      "text/plain": [
       "<Quantity 6.37584441>"
      ]
     },
     "execution_count": 98,
     "metadata": {},
     "output_type": "execute_result"
    }
   ],
   "source": [
    "alpha = 2\n",
    "R_sphere = 0.375/2*u.pc\n",
    "M_sphere = 50*u.solMass\n",
    "Mach  = np.sqrt(( alpha * G * M_sphere) / (5/3 * cs**2 * R_sphere))\n",
    "Mach.decompose()"
   ]
  },
  {
   "cell_type": "code",
   "execution_count": 118,
   "metadata": {},
   "outputs": [
    {
     "name": "stdout",
     "output_type": "stream",
     "text": [
      "0.1 0.000503784766214089\n",
      "1 0.05037847662140891\n",
      "2.5 0.3148654788838056\n",
      "6.4 2.0635024024129085\n",
      "10 5.03784766214089\n"
     ]
    }
   ],
   "source": [
    "MachList = [0.1, 1, 2.5, 6.4, 10]\n",
    "for Mach in MachList:\n",
    "    cs = soundSpeed.to(u.m/u.s)\n",
    "    R_sphere = 0.375/2*u.pc\n",
    "    M_sphere = 50*u.solMass\n",
    "    alpha  = (5/3 * cs**2 * Mach**2 * R_sphere) / (G * M_sphere)\n",
    "    print(Mach, alpha.decompose())"
   ]
  }
 ],
 "metadata": {
  "kernelspec": {
   "display_name": "Python 3 (ipykernel)",
   "language": "python",
   "name": "python3"
  },
  "language_info": {
   "codemirror_mode": {
    "name": "ipython",
    "version": 3
   },
   "file_extension": ".py",
   "mimetype": "text/x-python",
   "name": "python",
   "nbconvert_exporter": "python",
   "pygments_lexer": "ipython3",
   "version": "3.9.12"
  }
 },
 "nbformat": 4,
 "nbformat_minor": 4
}
