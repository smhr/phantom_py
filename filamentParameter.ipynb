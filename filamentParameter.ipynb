{
 "cells": [
  {
   "cell_type": "markdown",
   "metadata": {},
   "source": [
    "### Filament parameters for Phantom"
   ]
  },
  {
   "cell_type": "code",
   "execution_count": 1,
   "metadata": {},
   "outputs": [],
   "source": [
    "import numpy as np\n",
    "import math\n",
    "from astropy import constants as const\n",
    "from astropy import units as u\n",
    "#from astropy.constants import si"
   ]
  },
  {
   "cell_type": "code",
   "execution_count": 2,
   "metadata": {},
   "outputs": [],
   "source": [
    "densUnit = u.solMass/(u.pc)**3."
   ]
  },
  {
   "cell_type": "code",
   "execution_count": 3,
   "metadata": {},
   "outputs": [
    {
     "data": {
      "text/latex": [
       "$\\mathrm{\\frac{M_{\\odot}}{pc^{3}}}$"
      ],
      "text/plain": [
       "Unit(\"solMass / pc3\")"
      ]
     },
     "execution_count": 3,
     "metadata": {},
     "output_type": "execute_result"
    }
   ],
   "source": [
    "densUnit"
   ]
  },
  {
   "cell_type": "code",
   "execution_count": 4,
   "metadata": {},
   "outputs": [
    {
     "data": {
      "text/latex": [
       "$5.1702988 \\times 10^{-20} \\; \\mathrm{\\frac{g}{cm^{3}}}$"
      ],
      "text/plain": [
       "<Quantity 5.17029882e-20 g / cm3>"
      ]
     },
     "execution_count": 4,
     "metadata": {},
     "output_type": "execute_result"
    }
   ],
   "source": [
    "filamentM = 36*u.solMass #filament mass\n",
    "filamentL = 1.5*u.pc #filament length\n",
    "filamentR = 0.1*u.pc #filament radius\n",
    "filamentV = math.pi*filamentR**2.*filamentL\n",
    "filamentDens = filamentM/filamentV\n",
    "filamentDens.decompose(u.cgs.bases)"
   ]
  },
  {
   "cell_type": "code",
   "execution_count": 5,
   "metadata": {},
   "outputs": [
    {
     "data": {
      "text/latex": [
       "$1.7234329 \\times 10^{-21} \\; \\mathrm{\\frac{g}{cm^{3}}}$"
      ],
      "text/plain": [
       "<Quantity 1.72343294e-21 g / cm3>"
      ]
     },
     "execution_count": 5,
     "metadata": {},
     "output_type": "execute_result"
    }
   ],
   "source": [
    "filamentDens.decompose(u.cgs.bases)/30."
   ]
  },
  {
   "cell_type": "code",
   "execution_count": 6,
   "metadata": {},
   "outputs": [
    {
     "data": {
      "text/latex": [
       "$7.1809706 \\times 10^{-20} \\; \\mathrm{\\frac{g}{cm^{3}}}$"
      ],
      "text/plain": [
       "<Quantity 7.18097058e-20 g / cm3>"
      ]
     },
     "execution_count": 6,
     "metadata": {},
     "output_type": "execute_result"
    }
   ],
   "source": [
    "filamentM = 50*u.solMass #filament mass\n",
    "\n",
    "filamentDens = filamentM/filamentV\n",
    "filamentDens.decompose(u.cgs.bases)"
   ]
  },
  {
   "cell_type": "code",
   "execution_count": 7,
   "metadata": {},
   "outputs": [
    {
     "data": {
      "text/latex": [
       "$2.8723882 \\times 10^{-20} \\; \\mathrm{\\frac{g}{cm^{3}}}$"
      ],
      "text/plain": [
       "<Quantity 2.87238823e-20 g / cm3>"
      ]
     },
     "execution_count": 7,
     "metadata": {},
     "output_type": "execute_result"
    }
   ],
   "source": [
    "filamentM = 20*u.solMass #filament mass\n",
    "\n",
    "filamentDens = filamentM/filamentV\n",
    "filamentDens.decompose(u.cgs.bases)"
   ]
  },
  {
   "cell_type": "code",
   "execution_count": 8,
   "metadata": {},
   "outputs": [
    {
     "data": {
      "text/latex": [
       "$9.5746274 \\times 10^{-22} \\; \\mathrm{\\frac{g}{cm^{3}}}$"
      ],
      "text/plain": [
       "<Quantity 9.57462744e-22 g / cm3>"
      ]
     },
     "execution_count": 8,
     "metadata": {},
     "output_type": "execute_result"
    }
   ],
   "source": [
    "filamentDens.decompose(u.cgs.bases)/30."
   ]
  },
  {
   "cell_type": "markdown",
   "metadata": {},
   "source": [
    "**Calcualtion of sound speed:**"
   ]
  },
  {
   "cell_type": "markdown",
   "metadata": {},
   "source": [
    "$\\mu$ and temperature are input parameters."
   ]
  },
  {
   "cell_type": "code",
   "execution_count": 9,
   "metadata": {},
   "outputs": [],
   "source": [
    "def soundSpeed(mu, T):\n",
    "    T = T*u.Kelvin\n",
    "    cs = (const.k_B*T/mu/const.m_p)**(0.5)\n",
    "    cs = cs.decompose(u.cgs.bases)\n",
    "    return cs"
   ]
  },
  {
   "cell_type": "code",
   "execution_count": 10,
   "metadata": {},
   "outputs": [
    {
     "data": {
      "text/latex": [
       "$22803.877 \\; \\mathrm{\\frac{cm}{s}}$"
      ],
      "text/plain": [
       "<Quantity 22803.87651997 cm / s>"
      ]
     },
     "execution_count": 10,
     "metadata": {},
     "output_type": "execute_result"
    }
   ],
   "source": [
    "soundSpeed(2.381, 15)"
   ]
  },
  {
   "cell_type": "markdown",
   "metadata": {},
   "source": [
    "But we need to know the sound speed in the code unit when we input initial parameters for the Phantom code."
   ]
  },
  {
   "cell_type": "code",
   "execution_count": 11,
   "metadata": {},
   "outputs": [
    {
     "data": {
      "text/latex": [
       "$6.6743 \\times 10^{-11} \\; \\mathrm{\\frac{m^{3}}{kg\\,s^{2}}}$"
      ],
      "text/plain": [
       "<<class 'astropy.constants.codata2018.CODATA2018'> name='Gravitational constant' value=6.6743e-11 uncertainty=1.5e-15 unit='m3 / (kg s2)' reference='CODATA 2018'>"
      ]
     },
     "execution_count": 11,
     "metadata": {},
     "output_type": "execute_result"
    }
   ],
   "source": [
    "const.G"
   ]
  },
  {
   "cell_type": "code",
   "execution_count": 12,
   "metadata": {},
   "outputs": [
    {
     "data": {
      "text/latex": [
       "$\\mathrm{\\frac{m^{3}}{kg\\,s^{2}}}$"
      ],
      "text/plain": [
       "Unit(\"m3 / (kg s2)\")"
      ]
     },
     "execution_count": 12,
     "metadata": {},
     "output_type": "execute_result"
    }
   ],
   "source": [
    "const.G.unit"
   ]
  },
  {
   "cell_type": "code",
   "execution_count": 13,
   "metadata": {},
   "outputs": [
    {
     "data": {
      "text/latex": [
       "$\\mathrm{s}$"
      ],
      "text/plain": [
       "Unit(\"s\")"
      ]
     },
     "execution_count": 13,
     "metadata": {},
     "output_type": "execute_result"
    }
   ],
   "source": [
    "timeUnitSi = (u.m**3/const.G.unit/u.kg)**(0.5); timeUnitSi"
   ]
  },
  {
   "cell_type": "code",
   "execution_count": 14,
   "metadata": {},
   "outputs": [],
   "source": [
    "timeUnit = (const.pc**3/(const.G)/const.M_sun)**(0.5)"
   ]
  },
  {
   "cell_type": "code",
   "execution_count": 15,
   "metadata": {},
   "outputs": [
    {
     "data": {
      "text/latex": [
       "$4.7051124 \\times 10^{14} \\; \\mathrm{s}$"
      ],
      "text/plain": [
       "<Quantity 4.70511238e+14 s>"
      ]
     },
     "execution_count": 15,
     "metadata": {},
     "output_type": "execute_result"
    }
   ],
   "source": [
    "timeUnit"
   ]
  },
  {
   "cell_type": "code",
   "execution_count": 16,
   "metadata": {},
   "outputs": [
    {
     "data": {
      "text/latex": [
       "$14.909601 \\; \\mathrm{yr}$"
      ],
      "text/plain": [
       "<Quantity 14.90960143 yr>"
      ]
     },
     "execution_count": 16,
     "metadata": {},
     "output_type": "execute_result"
    }
   ],
   "source": [
    "timeUnit.to(u.year)/10**6"
   ]
  },
  {
   "cell_type": "code",
   "execution_count": 17,
   "metadata": {},
   "outputs": [
    {
     "data": {
      "text/latex": [
       "$2.1253477 \\times 10^{-15} \\; \\mathrm{\\frac{pc}{s}}$"
      ],
      "text/plain": [
       "<Quantity 2.12534775e-15 pc / s>"
      ]
     },
     "execution_count": 17,
     "metadata": {},
     "output_type": "execute_result"
    }
   ],
   "source": [
    "velocityUnit = u.pc/timeUnit; velocityUnit"
   ]
  },
  {
   "cell_type": "code",
   "execution_count": 18,
   "metadata": {},
   "outputs": [
    {
     "data": {
      "text/latex": [
       "$1.072948 \\times 10^{19} \\; \\mathrm{\\frac{cm}{pc}}$"
      ],
      "text/plain": [
       "<Quantity 1.07294802e+19 cm / pc>"
      ]
     },
     "execution_count": 18,
     "metadata": {},
     "output_type": "execute_result"
    }
   ],
   "source": [
    "soundSpeedDimless = soundSpeed(2.381, 15)/velocityUnit; soundSpeedDimless"
   ]
  },
  {
   "cell_type": "code",
   "execution_count": 19,
   "metadata": {},
   "outputs": [
    {
     "data": {
      "text/latex": [
       "$3.4771877 \\; \\mathrm{}$"
      ],
      "text/plain": [
       "<Quantity 3.47718771>"
      ]
     },
     "execution_count": 19,
     "metadata": {},
     "output_type": "execute_result"
    }
   ],
   "source": [
    "soundSpeedDimless.decompose(u.cgs.bases)"
   ]
  },
  {
   "cell_type": "markdown",
   "metadata": {},
   "source": [
    "---\n",
    "### Calculation of maximum density that can be resolved:"
   ]
  },
  {
   "cell_type": "code",
   "execution_count": 20,
   "metadata": {},
   "outputs": [
    {
     "data": {
      "text/latex": [
       "$8.3144626 \\; \\mathrm{\\frac{J}{K\\,g}}$"
      ],
      "text/plain": [
       "<Quantity 8.31446262 J / (g K)>"
      ]
     },
     "execution_count": 20,
     "metadata": {},
     "output_type": "execute_result"
    }
   ],
   "source": [
    "Rg = const.R*u.mol/u.gram; Rg"
   ]
  },
  {
   "cell_type": "markdown",
   "metadata": {},
   "source": [
    "#### Calculation of Jeans length:"
   ]
  },
  {
   "cell_type": "code",
   "execution_count": 21,
   "metadata": {},
   "outputs": [
    {
     "data": {
      "text/latex": [
       "$1.0340598 \\times 10^{-19} \\; \\mathrm{\\frac{g}{cm^{3}}}$"
      ],
      "text/plain": [
       "<Quantity 1.03405976e-19 g / cm3>"
      ]
     },
     "execution_count": 21,
     "metadata": {},
     "output_type": "execute_result"
    }
   ],
   "source": [
    "filamentM = 72*u.solMass #filament mass\n",
    "\n",
    "filamentDens = filamentM/filamentV\n",
    "filamentDens.decompose(u.cgs.bases)"
   ]
  },
  {
   "cell_type": "code",
   "execution_count": 22,
   "metadata": {},
   "outputs": [
    {
     "data": {
      "text/latex": [
       "$1.2657125 \\times 10^{8} \\; \\mathrm{\\frac{pc^{3/2}\\,cm\\,kg^{1/2}}{M_{\\odot}^{1/2}\\,m^{3/2}}}$"
      ],
      "text/plain": [
       "<Quantity 1.26571251e+08 cm kg(1/2) pc(3/2) / (m(3/2) solMass(1/2))>"
      ]
     },
     "execution_count": 22,
     "metadata": {},
     "output_type": "execute_result"
    }
   ],
   "source": [
    "cs = soundSpeed(2.381, 15)\n",
    "JeansL = (math.pi*cs**2/const.G/filamentDens)**(1/2.); JeansL"
   ]
  },
  {
   "cell_type": "code",
   "execution_count": 23,
   "metadata": {},
   "outputs": [
    {
     "data": {
      "text/latex": [
       "$4.8652811 \\times 10^{17} \\; \\mathrm{cm}$"
      ],
      "text/plain": [
       "<Quantity 4.86528108e+17 cm>"
      ]
     },
     "execution_count": 23,
     "metadata": {},
     "output_type": "execute_result"
    }
   ],
   "source": [
    "JeansL.decompose(u.cgs.bases)"
   ]
  },
  {
   "cell_type": "code",
   "execution_count": 24,
   "metadata": {},
   "outputs": [
    {
     "data": {
      "text/latex": [
       "$0.15767302 \\; \\mathrm{pc}$"
      ],
      "text/plain": [
       "<Quantity 0.15767302 pc>"
      ]
     },
     "execution_count": 24,
     "metadata": {},
     "output_type": "execute_result"
    }
   ],
   "source": [
    "JeansL.decompose(u.cgs.bases).to(u.parsec)"
   ]
  },
  {
   "cell_type": "code",
   "execution_count": 25,
   "metadata": {},
   "outputs": [],
   "source": [
    "# function to calculate rho_crit (Bate & Burkert 1997)\n",
    "def calcRhoCrit (T, mu, Ntot, Mtot):\n",
    "    T = T * u.Kelvin\n",
    "    Mtot = Mtot * const.M_sun\n",
    "    Nnei = 57.9 # M_4 cubic kernel\n",
    "    rhoCrit = (3./4/math.pi) * (5*Rg*T/2/const.G/mu)**3 * (Ntot/(2*Nnei)/Mtot)**2\n",
    "    return rhoCrit.decompose(u.cgs.bases)\n",
    "\n",
    "# function to calculate rho_crit (Hubber et al. 2006)\n",
    "def calcRhoCritHubber (T, mu, Ntot, Mtot):\n",
    "    T = T * u.Kelvin\n",
    "    Mtot = Mtot * const.M_sun\n",
    "    ss2 = (const.k_B*T/mu/const.m_p) # sound speed ^ 2\n",
    "    Nnei = 57.9\n",
    "    rhoCritHubber = (math.pi*ss2/const.G)**3 * (math.pi/(6*Nnei*(Mtot/Ntot)))**2\n",
    "    return rhoCritHubber.decompose(u.cgs.bases)"
   ]
  },
  {
   "cell_type": "markdown",
   "metadata": {},
   "source": [
    "---\n",
    "For non-turbulent filament:"
   ]
  },
  {
   "cell_type": "code",
   "execution_count": 26,
   "metadata": {},
   "outputs": [
    {
     "data": {
      "text/latex": [
       "$1.2242947 \\times 10^{-15} \\; \\mathrm{\\frac{g}{cm^{3}}}$"
      ],
      "text/plain": [
       "<Quantity 1.22429465e-15 g / cm3>"
      ]
     },
     "execution_count": 26,
     "metadata": {},
     "output_type": "execute_result"
    }
   ],
   "source": [
    "calcRhoCrit (T = 15, mu = 2.381, Ntot = 300000, Mtot = 50)"
   ]
  },
  {
   "cell_type": "code",
   "execution_count": 27,
   "metadata": {},
   "outputs": [
    {
     "data": {
      "text/latex": [
       "$3.0607366 \\times 10^{-18} \\; \\mathrm{\\frac{g}{cm^{3}}}$"
      ],
      "text/plain": [
       "<Quantity 3.06073664e-18 g / cm3>"
      ]
     },
     "execution_count": 27,
     "metadata": {},
     "output_type": "execute_result"
    }
   ],
   "source": [
    "calcRhoCrit (T = 15, mu = 2.381, Ntot = 30000, Mtot = 100)"
   ]
  },
  {
   "cell_type": "code",
   "execution_count": 28,
   "metadata": {},
   "outputs": [
    {
     "data": {
      "text/latex": [
       "$2.3551375 \\times 10^{-14} \\; \\mathrm{\\frac{g}{cm^{3}}}$"
      ],
      "text/plain": [
       "<Quantity 2.35513745e-14 g / cm3>"
      ]
     },
     "execution_count": 28,
     "metadata": {},
     "output_type": "execute_result"
    }
   ],
   "source": [
    "calcRhoCrit (T = 15, mu = 2.381, Ntot = 1000000, Mtot = 38)"
   ]
  },
  {
   "cell_type": "code",
   "execution_count": 29,
   "metadata": {},
   "outputs": [
    {
     "data": {
      "text/latex": [
       "$2.1196237 \\times 10^{-15} \\; \\mathrm{\\frac{g}{cm^{3}}}$"
      ],
      "text/plain": [
       "<Quantity 2.11962371e-15 g / cm3>"
      ]
     },
     "execution_count": 29,
     "metadata": {},
     "output_type": "execute_result"
    }
   ],
   "source": [
    "calcRhoCrit (T = 15, mu = 2.381, Ntot = 300000, Mtot = 38)"
   ]
  },
  {
   "cell_type": "code",
   "execution_count": 30,
   "metadata": {},
   "outputs": [
    {
     "data": {
      "text/latex": [
       "$1.0919816 \\times 10^{-14} \\; \\mathrm{\\frac{g}{cm^{3}}}$"
      ],
      "text/plain": [
       "<Quantity 1.09198162e-14 g / cm3>"
      ]
     },
     "execution_count": 30,
     "metadata": {},
     "output_type": "execute_result"
    }
   ],
   "source": [
    "calcRhoCritHubber (T = 15, mu = 2.381, Ntot = 300000, Mtot = 50)"
   ]
  },
  {
   "cell_type": "code",
   "execution_count": 31,
   "metadata": {},
   "outputs": [
    {
     "data": {
      "text/latex": [
       "$1.2242947 \\times 10^{-17} \\; \\mathrm{\\frac{g}{cm^{3}}}$"
      ],
      "text/plain": [
       "<Quantity 1.22429465e-17 g / cm3>"
      ]
     },
     "execution_count": 31,
     "metadata": {},
     "output_type": "execute_result"
    }
   ],
   "source": [
    "calcRhoCrit (T = 15, mu = 2.381, Ntot = 30000, Mtot = 50)"
   ]
  },
  {
   "cell_type": "code",
   "execution_count": 32,
   "metadata": {},
   "outputs": [
    {
     "data": {
      "text/latex": [
       "$1.510958 \\times 10^{-13} \\; \\mathrm{\\frac{g}{cm^{3}}}$"
      ],
      "text/plain": [
       "<Quantity 1.51095802e-13 g / cm3>"
      ]
     },
     "execution_count": 32,
     "metadata": {},
     "output_type": "execute_result"
    }
   ],
   "source": [
    "calcRhoCrit (T = 15, mu = 2.46, Ntot = 3500000, Mtot = 50)"
   ]
  },
  {
   "cell_type": "markdown",
   "metadata": {},
   "source": [
    "---"
   ]
  },
  {
   "cell_type": "code",
   "execution_count": 33,
   "metadata": {},
   "outputs": [
    {
     "data": {
      "text/latex": [
       "$3.2145082 \\times 10^{-13} \\; \\mathrm{\\frac{g}{cm^{3}}}$"
      ],
      "text/plain": [
       "<Quantity 3.21450821e-13 g / cm3>"
      ]
     },
     "execution_count": 33,
     "metadata": {},
     "output_type": "execute_result"
    }
   ],
   "source": [
    "calcRhoCrit (T = 15, mu = 2.381, Ntot = 3.5e6, Mtot = 36)"
   ]
  },
  {
   "cell_type": "code",
   "execution_count": 34,
   "metadata": {},
   "outputs": [
    {
     "data": {
      "text/latex": [
       "$8.0362705 \\times 10^{-14} \\; \\mathrm{\\frac{g}{cm^{3}}}$"
      ],
      "text/plain": [
       "<Quantity 8.03627053e-14 g / cm3>"
      ]
     },
     "execution_count": 34,
     "metadata": {},
     "output_type": "execute_result"
    }
   ],
   "source": [
    "calcRhoCrit (T = 15, mu = 2.381, Ntot = 3.5e6, Mtot = 72)"
   ]
  },
  {
   "cell_type": "code",
   "execution_count": 35,
   "metadata": {},
   "outputs": [
    {
     "data": {
      "text/latex": [
       "$3.5064411 \\times 10^{-14} \\; \\mathrm{\\frac{g}{cm^{3}}}$"
      ],
      "text/plain": [
       "<Quantity 3.50644108e-14 g / cm3>"
      ]
     },
     "execution_count": 35,
     "metadata": {},
     "output_type": "execute_result"
    }
   ],
   "source": [
    "calcRhoCrit (T = 15, mu = 2.381, Ntot = 3.5e6, Mtot = 109)"
   ]
  },
  {
   "cell_type": "code",
   "execution_count": 36,
   "metadata": {},
   "outputs": [
    {
     "data": {
      "text/latex": [
       "$2.8671071 \\times 10^{-12} \\; \\mathrm{\\frac{g}{cm^{3}}}$"
      ],
      "text/plain": [
       "<Quantity 2.86710709e-12 g / cm3>"
      ]
     },
     "execution_count": 36,
     "metadata": {},
     "output_type": "execute_result"
    }
   ],
   "source": [
    "calcRhoCritHubber (T = 15, mu = 2.381, Ntot = 3.5e6, Mtot = 36) # <--- Hubber"
   ]
  },
  {
   "cell_type": "code",
   "execution_count": 37,
   "metadata": {},
   "outputs": [
    {
     "data": {
      "text/latex": [
       "$7.1677677 \\times 10^{-13} \\; \\mathrm{\\frac{g}{cm^{3}}}$"
      ],
      "text/plain": [
       "<Quantity 7.16776773e-13 g / cm3>"
      ]
     },
     "execution_count": 37,
     "metadata": {},
     "output_type": "execute_result"
    }
   ],
   "source": [
    "calcRhoCritHubber (T = 15, mu = 2.381, Ntot = 3.5e6, Mtot = 72) # <--- Hubber"
   ]
  },
  {
   "cell_type": "code",
   "execution_count": 38,
   "metadata": {},
   "outputs": [
    {
     "data": {
      "text/latex": [
       "$3.1274899 \\times 10^{-13} \\; \\mathrm{\\frac{g}{cm^{3}}}$"
      ],
      "text/plain": [
       "<Quantity 3.12748993e-13 g / cm3>"
      ]
     },
     "execution_count": 38,
     "metadata": {},
     "output_type": "execute_result"
    }
   ],
   "source": [
    "calcRhoCritHubber (T = 15, mu = 2.381, Ntot = 3.5e6, Mtot = 109) # <--- Hubber"
   ]
  },
  {
   "cell_type": "markdown",
   "metadata": {},
   "source": [
    "---\n",
    "\n",
    "### Jeans length at critical density:"
   ]
  },
  {
   "cell_type": "code",
   "execution_count": 39,
   "metadata": {},
   "outputs": [
    {
     "name": "stdout",
     "output_type": "stream",
     "text": [
      "8.036270529401841e-14 g / cm3\n",
      "36.89164909326973 AU\n",
      "0.003557195247915793 solMass\n"
     ]
    }
   ],
   "source": [
    "rhoCrit = calcRhoCrit (T = 15, mu = 2.381, Ntot = 3.5e6, Mtot = 72)\n",
    "print(rhoCrit)\n",
    "cs = soundSpeed(2.381, 15)\n",
    "RJ = (math.pi*cs**2/const.G/rhoCrit)**(1/2.)\n",
    "print(RJ.decompose(u.cgs.bases).to(u.AU))\n",
    "JeansMassCrit = 4./3*math.pi*rhoCrit*(RJ/2)**3\n",
    "print(JeansMassCrit.to(u.solMass))"
   ]
  },
  {
   "cell_type": "markdown",
   "metadata": {},
   "source": [
    "### Jeans length at critical density for sink creation:"
   ]
  },
  {
   "cell_type": "code",
   "execution_count": 40,
   "metadata": {},
   "outputs": [
    {
     "name": "stdout",
     "output_type": "stream",
     "text": [
      "36.89164909326973 AU\n",
      "0.0001788557619910937 pc\n"
     ]
    }
   ],
   "source": [
    "rhoSink = rhoCrit\n",
    "cs = soundSpeed(2.381, 15)\n",
    "JeansLengthSink = (math.pi*cs**2/const.G/rhoSink)**(1/2.)\n",
    "print(JeansLengthSink.decompose(u.cgs.bases).to(u.AU))\n",
    "print(JeansLengthSink.decompose(u.cgs.bases).to(u.pc))"
   ]
  },
  {
   "cell_type": "markdown",
   "metadata": {},
   "source": [
    "### Critical density for Bate (2009, MNRAS, 397, 232–248) initial condition:"
   ]
  },
  {
   "cell_type": "code",
   "execution_count": 41,
   "metadata": {},
   "outputs": [
    {
     "data": {
      "text/latex": [
       "$4.4769126 \\times 10^{-14} \\; \\mathrm{\\frac{g}{cm^{3}}}$"
      ],
      "text/plain": [
       "<Quantity 4.47691264e-14 g / cm3>"
      ]
     },
     "execution_count": 41,
     "metadata": {},
     "output_type": "execute_result"
    }
   ],
   "source": [
    "calcRhoCrit (T = 10, mu = 2.46, Ntot = 3500000, Mtot = 50)"
   ]
  },
  {
   "cell_type": "code",
   "execution_count": 42,
   "metadata": {},
   "outputs": [
    {
     "name": "stdout",
     "output_type": "stream",
     "text": [
      "4.476912642691632e-14 g / cm3\n",
      "39.70384325976633 AU\n"
     ]
    }
   ],
   "source": [
    "rhoCrit = calcRhoCrit (T = 10, mu = 2.46, Ntot = 3500000, Mtot = 50); print(rhoCrit)\n",
    "cs = soundSpeed(2.46, 10)\n",
    "JeansLengthCrit = (math.pi*cs**2/const.G/rhoCrit)**(1/2.)\n",
    "print(JeansLengthCrit.decompose(u.cgs.bases).to(u.AU))"
   ]
  },
  {
   "cell_type": "markdown",
   "metadata": {},
   "source": [
    "### Jeans mass at $\\rho=10^{-13} g/cm^3$"
   ]
  },
  {
   "cell_type": "code",
   "execution_count": 43,
   "metadata": {},
   "outputs": [
    {
     "name": "stdout",
     "output_type": "stream",
     "text": [
      "39.70384325976633 AU\n",
      "0.0016528541077230976 solMass\n"
     ]
    }
   ],
   "source": [
    "rhoCrit = 1e-13 * u.g / (u.cm)**3\n",
    "cs = soundSpeed(2.46, 10)\n",
    "RJ = (math.pi*cs**2/const.G/rhoCrit)**(1/2.)\n",
    "print(JeansLengthCrit.decompose(u.cgs.bases).to(u.AU))\n",
    "JeansMassCrit = 4./3*math.pi*rhoCrit*(RJ/2.)**3\n",
    "print(JeansMassCrit.to(u.solMass))"
   ]
  },
  {
   "cell_type": "markdown",
   "metadata": {},
   "source": [
    "### Mass per unit length for an isothermal Ostriker filament:"
   ]
  },
  {
   "cell_type": "code",
   "execution_count": 44,
   "metadata": {},
   "outputs": [
    {
     "data": {
      "text/latex": [
       "$1.5582661 \\times 10^{19} \\; \\mathrm{\\frac{cm^{2}\\,kg}{m^{3}}}$"
      ],
      "text/plain": [
       "<Quantity 1.55826614e+19 cm2 kg / m3>"
      ]
     },
     "execution_count": 44,
     "metadata": {},
     "output_type": "execute_result"
    }
   ],
   "source": [
    "ml = 2*soundSpeed(2.381, 15)**2/const.G; ml"
   ]
  },
  {
   "cell_type": "code",
   "execution_count": 45,
   "metadata": {},
   "outputs": [
    {
     "data": {
      "text/latex": [
       "$1.5582661 \\times 10^{16} \\; \\mathrm{\\frac{g}{cm}}$"
      ],
      "text/plain": [
       "<Quantity 1.55826614e+16 g / cm>"
      ]
     },
     "execution_count": 45,
     "metadata": {},
     "output_type": "execute_result"
    }
   ],
   "source": [
    "ml.decompose(u.cgs.bases)"
   ]
  },
  {
   "cell_type": "code",
   "execution_count": 46,
   "metadata": {},
   "outputs": [
    {
     "data": {
      "text/latex": [
       "$\\mathrm{\\frac{M_{\\odot}}{pc}}$"
      ],
      "text/plain": [
       "Unit(\"solMass / pc\")"
      ]
     },
     "execution_count": 46,
     "metadata": {},
     "output_type": "execute_result"
    }
   ],
   "source": [
    "solarmassperparsec = u.solMass/u.parsec; solarmassperparsec"
   ]
  },
  {
   "cell_type": "code",
   "execution_count": 47,
   "metadata": {},
   "outputs": [
    {
     "data": {
      "text/latex": [
       "$24.181669 \\; \\mathrm{\\frac{M_{\\odot}}{pc}}$"
      ],
      "text/plain": [
       "<Quantity 24.18166878 solMass / pc>"
      ]
     },
     "execution_count": 47,
     "metadata": {},
     "output_type": "execute_result"
    }
   ],
   "source": [
    "ml.decompose(u.cgs.bases).to(solarmassperparsec)"
   ]
  },
  {
   "cell_type": "markdown",
   "metadata": {},
   "source": [
    "So the mass of the Ostriker filament with 1.5 pc length is:"
   ]
  },
  {
   "cell_type": "code",
   "execution_count": 48,
   "metadata": {},
   "outputs": [
    {
     "name": "stdout",
     "output_type": "stream",
     "text": [
      "36.2725031676986 solMass / pc\n"
     ]
    }
   ],
   "source": [
    "print(ml.decompose(u.cgs.bases).to(solarmassperparsec)*1.5)"
   ]
  },
  {
   "cell_type": "code",
   "execution_count": 49,
   "metadata": {},
   "outputs": [
    {
     "data": {
      "text/latex": [
       "$5.9786374 \\times 10^{10} \\; \\mathrm{\\frac{1}{cm^{3}}}$"
      ],
      "text/plain": [
       "<Quantity 5.97863741e+10 1 / cm3>"
      ]
     },
     "execution_count": 49,
     "metadata": {},
     "output_type": "execute_result"
    }
   ],
   "source": [
    "(1e-13 * u.g / (u.cm)**3/const.m_p).decompose(u.cgs.bases)"
   ]
  }
 ],
 "metadata": {
  "kernelspec": {
   "display_name": "Python 3 (ipykernel)",
   "language": "python",
   "name": "python3"
  },
  "language_info": {
   "codemirror_mode": {
    "name": "ipython",
    "version": 3
   },
   "file_extension": ".py",
   "mimetype": "text/x-python",
   "name": "python",
   "nbconvert_exporter": "python",
   "pygments_lexer": "ipython3",
   "version": "3.9.12"
  }
 },
 "nbformat": 4,
 "nbformat_minor": 4
}
